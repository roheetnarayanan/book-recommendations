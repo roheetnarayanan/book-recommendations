{
 "cells": [
  {
   "cell_type": "code",
   "execution_count": 1,
   "id": "ebbbd783",
   "metadata": {},
   "outputs": [],
   "source": [
    "import numpy as np\n",
    "import pandas as pd"
   ]
  },
  {
   "cell_type": "code",
   "execution_count": 2,
   "id": "b333af2f",
   "metadata": {},
   "outputs": [
    {
     "data": {
      "text/plain": [
       "['datasets\\\\Autobiography.txt',\n",
       " 'datasets\\\\CoralReefs.txt',\n",
       " 'datasets\\\\DescentofMan.txt',\n",
       " 'datasets\\\\DifferentFormsofFlowers.txt',\n",
       " 'datasets\\\\EffectsCrossSelfFertilization.txt',\n",
       " 'datasets\\\\ExpressionofEmotionManAnimals.txt',\n",
       " 'datasets\\\\FormationVegetableMould.txt',\n",
       " 'datasets\\\\FoundationsOriginofSpecies.txt',\n",
       " 'datasets\\\\GeologicalObservationsSouthAmerica.txt',\n",
       " 'datasets\\\\InsectivorousPlants.txt',\n",
       " 'datasets\\\\LifeandLettersVol1.txt',\n",
       " 'datasets\\\\LifeandLettersVol2.txt',\n",
       " 'datasets\\\\MonographCirripedia.txt',\n",
       " 'datasets\\\\MonographCirripediaVol2.txt',\n",
       " 'datasets\\\\MovementClimbingPlants.txt',\n",
       " 'datasets\\\\OriginofSpecies.txt',\n",
       " 'datasets\\\\PowerMovementPlants.txt',\n",
       " 'datasets\\\\VariationPlantsAnimalsDomestication.txt',\n",
       " 'datasets\\\\VolcanicIslands.txt',\n",
       " 'datasets\\\\VoyageBeagle.txt']"
      ]
     },
     "execution_count": 2,
     "metadata": {},
     "output_type": "execute_result"
    }
   ],
   "source": [
    "import glob\n",
    "\n",
    "folder = \"datasets/\"\n",
    "files = glob.glob(folder + \"*.txt\")\n",
    "files.sort()\n",
    "files"
   ]
  },
  {
   "cell_type": "markdown",
   "id": "0c952d95",
   "metadata": {},
   "source": [
    "### Loading the contents of each book into"
   ]
  },
  {
   "cell_type": "code",
   "execution_count": 3,
   "id": "d63a397f",
   "metadata": {},
   "outputs": [],
   "source": [
    "import re, os\n",
    "\n",
    "\n",
    "txts = []\n",
    "titles = []\n",
    "\n",
    "for n in files:\n",
    "    # Open each file\n",
    "    f = open(n, encoding='utf-8-sig')\n",
    "    # Remove all non-alpha-numeric characters\n",
    "    data = re.sub('[\\W]+', ' ', f.read())\n",
    "\n",
    "    # Store the texts and titles of the books in two separate lists\n",
    "    txts.append(data)\n",
    "    titles.append(os.path.basename(n).replace(\".txt\", \"\"))\n"
   ]
  },
  {
   "cell_type": "markdown",
   "id": "4ee939cf",
   "metadata": {},
   "source": [
    "###  Find \"Descent of Man\""
   ]
  },
  {
   "cell_type": "code",
   "execution_count": 4,
   "id": "e90a83b0",
   "metadata": {},
   "outputs": [
    {
     "name": "stdout",
     "output_type": "stream",
     "text": [
      "2\n"
     ]
    }
   ],
   "source": [
    "for i in range(len(titles)):\n",
    "    # Store the index if the title is \"DescentofMan\"\n",
    "    if titles[i]==\"DescentofMan\":\n",
    "        dom = i\n",
    "\n",
    "print(dom)"
   ]
  },
  {
   "cell_type": "markdown",
   "id": "f4172617",
   "metadata": {},
   "source": [
    "### Tokenize the corpus"
   ]
  },
  {
   "cell_type": "code",
   "execution_count": 5,
   "id": "7f07a3a9",
   "metadata": {},
   "outputs": [],
   "source": [
    "from nltk.corpus import stopwords\n"
   ]
  },
  {
   "cell_type": "code",
   "execution_count": 6,
   "id": "3949255e",
   "metadata": {},
   "outputs": [
    {
     "data": {
      "text/plain": [
       "['descent',\n",
       " 'man',\n",
       " 'selection',\n",
       " 'relation',\n",
       " 'sex',\n",
       " 'works',\n",
       " 'charles',\n",
       " 'darwin',\n",
       " 'f',\n",
       " 'r',\n",
       " 'life',\n",
       " 'letters',\n",
       " 'charles',\n",
       " 'darwin',\n",
       " 'autobiographical',\n",
       " 'chapter',\n",
       " 'edited',\n",
       " 'francis',\n",
       " 'darwin',\n",
       " 'portraits']"
      ]
     },
     "execution_count": 6,
     "metadata": {},
     "output_type": "execute_result"
    }
   ],
   "source": [
    "# a list of stop words\n",
    "stoplist = set(stopwords.words('english'))\n",
    "\n",
    "# Convert the text to lower case \n",
    "txts_lower_case = [txt.lower() for txt in txts]\n",
    "\n",
    "# Transform the text into tokens \n",
    "txts_split = [txt.split() for txt in txts_lower_case]\n",
    "\n",
    "# Remove tokens which are part of the list of stop words\n",
    "texts = [[word for word in txt if word not in stoplist] for txt in txts_split]\n",
    "\n",
    "# Print the first 20 tokens for the \"Descent of Man\" book\n",
    "texts[dom][0:20]\n"
   ]
  },
  {
   "cell_type": "markdown",
   "id": "b4296c6d",
   "metadata": {},
   "source": [
    "### Stemming the tokenized corpus"
   ]
  },
  {
   "cell_type": "code",
   "execution_count": 7,
   "id": "d9990ffa",
   "metadata": {},
   "outputs": [],
   "source": [
    "from nltk.stem import PorterStemmer\n",
    "\n",
    "# Create an instance of a PorterStemmer object\n",
    "porter = PorterStemmer()\n",
    "\n",
    "# For each token of each text, we generated its stem \n",
    "texts_stem = [[porter.stem(token) for token in text] for text in texts]"
   ]
  },
  {
   "cell_type": "code",
   "execution_count": 8,
   "id": "aec3cbba",
   "metadata": {},
   "outputs": [
    {
     "data": {
      "text/plain": [
       "['descent',\n",
       " 'man',\n",
       " 'select',\n",
       " 'relat',\n",
       " 'sex',\n",
       " 'work',\n",
       " 'charl',\n",
       " 'darwin',\n",
       " 'f',\n",
       " 'r',\n",
       " 'life',\n",
       " 'letter',\n",
       " 'charl',\n",
       " 'darwin',\n",
       " 'autobiograph',\n",
       " 'chapter',\n",
       " 'edit',\n",
       " 'franci',\n",
       " 'darwin',\n",
       " 'portrait']"
      ]
     },
     "execution_count": 8,
     "metadata": {},
     "output_type": "execute_result"
    }
   ],
   "source": [
    "texts_stem[dom][0:20]"
   ]
  },
  {
   "cell_type": "markdown",
   "id": "ccf5726c",
   "metadata": {},
   "source": [
    "### Building a bag-of-words model"
   ]
  },
  {
   "cell_type": "code",
   "execution_count": 9,
   "id": "9c2cec24",
   "metadata": {},
   "outputs": [],
   "source": [
    "from gensim import corpora\n",
    "\n",
    "# Create a dictionary from the stemmed tokens\n",
    "dictionary = corpora.Dictionary(texts_stem)\n",
    "\n",
    "# Create a bag-of-words model for each book, using the previously generated dictionary\n",
    "bows = [dictionary.doc2bow(text) for text in texts_stem]"
   ]
  },
  {
   "cell_type": "markdown",
   "id": "ff3c914f",
   "metadata": {},
   "source": [
    "The most common words of a given book"
   ]
  },
  {
   "cell_type": "code",
   "execution_count": 10,
   "id": "e68708a2",
   "metadata": {},
   "outputs": [
    {
     "data": {
      "text/html": [
       "<div>\n",
       "<style scoped>\n",
       "    .dataframe tbody tr th:only-of-type {\n",
       "        vertical-align: middle;\n",
       "    }\n",
       "\n",
       "    .dataframe tbody tr th {\n",
       "        vertical-align: top;\n",
       "    }\n",
       "\n",
       "    .dataframe thead th {\n",
       "        text-align: right;\n",
       "    }\n",
       "</style>\n",
       "<table border=\"1\" class=\"dataframe\">\n",
       "  <thead>\n",
       "    <tr style=\"text-align: right;\">\n",
       "      <th></th>\n",
       "      <th>index</th>\n",
       "      <th>occurrences</th>\n",
       "      <th>token</th>\n",
       "    </tr>\n",
       "  </thead>\n",
       "  <tbody>\n",
       "    <tr>\n",
       "      <th>1142</th>\n",
       "      <td>1481</td>\n",
       "      <td>2867</td>\n",
       "      <td>male</td>\n",
       "    </tr>\n",
       "    <tr>\n",
       "      <th>5931</th>\n",
       "      <td>7825</td>\n",
       "      <td>2135</td>\n",
       "      <td>femal</td>\n",
       "    </tr>\n",
       "    <tr>\n",
       "      <th>361</th>\n",
       "      <td>494</td>\n",
       "      <td>1445</td>\n",
       "      <td>colour</td>\n",
       "    </tr>\n",
       "    <tr>\n",
       "      <th>514</th>\n",
       "      <td>682</td>\n",
       "      <td>1407</td>\n",
       "      <td>differ</td>\n",
       "    </tr>\n",
       "    <tr>\n",
       "      <th>1651</th>\n",
       "      <td>2125</td>\n",
       "      <td>1326</td>\n",
       "      <td>sex</td>\n",
       "    </tr>\n",
       "    <tr>\n",
       "      <th>1327</th>\n",
       "      <td>1718</td>\n",
       "      <td>1324</td>\n",
       "      <td>p</td>\n",
       "    </tr>\n",
       "    <tr>\n",
       "      <th>1144</th>\n",
       "      <td>1484</td>\n",
       "      <td>1218</td>\n",
       "      <td>man</td>\n",
       "    </tr>\n",
       "    <tr>\n",
       "      <th>244</th>\n",
       "      <td>312</td>\n",
       "      <td>1103</td>\n",
       "      <td>bird</td>\n",
       "    </tr>\n",
       "    <tr>\n",
       "      <th>1730</th>\n",
       "      <td>2224</td>\n",
       "      <td>1100</td>\n",
       "      <td>speci</td>\n",
       "    </tr>\n",
       "    <tr>\n",
       "      <th>1298</th>\n",
       "      <td>1685</td>\n",
       "      <td>999</td>\n",
       "      <td>one</td>\n",
       "    </tr>\n",
       "  </tbody>\n",
       "</table>\n",
       "</div>"
      ],
      "text/plain": [
       "      index  occurrences   token\n",
       "1142   1481         2867    male\n",
       "5931   7825         2135   femal\n",
       "361     494         1445  colour\n",
       "514     682         1407  differ\n",
       "1651   2125         1326     sex\n",
       "1327   1718         1324       p\n",
       "1144   1484         1218     man\n",
       "244     312         1103    bird\n",
       "1730   2224         1100   speci\n",
       "1298   1685          999     one"
      ]
     },
     "execution_count": 10,
     "metadata": {},
     "output_type": "execute_result"
    }
   ],
   "source": [
    "\n",
    "# Convert the BoW model for \"Descent of Man\" into a DataFrame\n",
    "df_bow_dom = pd.DataFrame(bows[dom])\n",
    "\n",
    "# Add the column names to the DataFrame\n",
    "df_bow_dom.columns = [\"index\", \"occurrences\"]\n",
    "\n",
    "# Add a column containing the token corresponding to the dictionary index\n",
    "df_bow_dom[\"token\"] = [dictionary[index] for index in df_bow_dom[\"index\"]]\n",
    "\n",
    "# Sort the DataFrame by descending number of occurrences and print the first 10 values\n",
    "df_bow_dom.sort_values(by=\"occurrences\", ascending=False).head(10)"
   ]
  },
  {
   "cell_type": "markdown",
   "id": "6a3e47dc",
   "metadata": {},
   "source": [
    "### Build a tf-idf model"
   ]
  },
  {
   "cell_type": "code",
   "execution_count": 11,
   "id": "077bc2b9",
   "metadata": {},
   "outputs": [],
   "source": [
    "from gensim.models import TfidfModel\n",
    "\n",
    "# Generate the tf-idf model\n",
    "model = TfidfModel(bows)\n"
   ]
  },
  {
   "cell_type": "markdown",
   "id": "d1ca478d",
   "metadata": {},
   "source": [
    "### The results of the tf-idf model"
   ]
  },
  {
   "cell_type": "code",
   "execution_count": 12,
   "id": "e6203731",
   "metadata": {},
   "outputs": [
    {
     "data": {
      "text/html": [
       "<div>\n",
       "<style scoped>\n",
       "    .dataframe tbody tr th:only-of-type {\n",
       "        vertical-align: middle;\n",
       "    }\n",
       "\n",
       "    .dataframe tbody tr th {\n",
       "        vertical-align: top;\n",
       "    }\n",
       "\n",
       "    .dataframe thead th {\n",
       "        text-align: right;\n",
       "    }\n",
       "</style>\n",
       "<table border=\"1\" class=\"dataframe\">\n",
       "  <thead>\n",
       "    <tr style=\"text-align: right;\">\n",
       "      <th></th>\n",
       "      <th>id</th>\n",
       "      <th>score</th>\n",
       "      <th>token</th>\n",
       "    </tr>\n",
       "  </thead>\n",
       "  <tbody>\n",
       "    <tr>\n",
       "      <th>5332</th>\n",
       "      <td>7825</td>\n",
       "      <td>0.479839</td>\n",
       "      <td>femal</td>\n",
       "    </tr>\n",
       "    <tr>\n",
       "      <th>816</th>\n",
       "      <td>1481</td>\n",
       "      <td>0.449909</td>\n",
       "      <td>male</td>\n",
       "    </tr>\n",
       "    <tr>\n",
       "      <th>8347</th>\n",
       "      <td>10840</td>\n",
       "      <td>0.220112</td>\n",
       "      <td>shew</td>\n",
       "    </tr>\n",
       "    <tr>\n",
       "      <th>1174</th>\n",
       "      <td>2125</td>\n",
       "      <td>0.167834</td>\n",
       "      <td>sex</td>\n",
       "    </tr>\n",
       "    <tr>\n",
       "      <th>7593</th>\n",
       "      <td>10086</td>\n",
       "      <td>0.147805</td>\n",
       "      <td>plumag</td>\n",
       "    </tr>\n",
       "    <tr>\n",
       "      <th>1175</th>\n",
       "      <td>2126</td>\n",
       "      <td>0.144992</td>\n",
       "      <td>sexual</td>\n",
       "    </tr>\n",
       "    <tr>\n",
       "      <th>8348</th>\n",
       "      <td>10841</td>\n",
       "      <td>0.144869</td>\n",
       "      <td>shewn</td>\n",
       "    </tr>\n",
       "    <tr>\n",
       "      <th>8629</th>\n",
       "      <td>11122</td>\n",
       "      <td>0.116020</td>\n",
       "      <td>stridul</td>\n",
       "    </tr>\n",
       "    <tr>\n",
       "      <th>1162</th>\n",
       "      <td>2103</td>\n",
       "      <td>0.110006</td>\n",
       "      <td>select</td>\n",
       "    </tr>\n",
       "    <tr>\n",
       "      <th>69</th>\n",
       "      <td>123</td>\n",
       "      <td>0.104414</td>\n",
       "      <td>adult</td>\n",
       "    </tr>\n",
       "  </tbody>\n",
       "</table>\n",
       "</div>"
      ],
      "text/plain": [
       "         id     score    token\n",
       "5332   7825  0.479839    femal\n",
       "816    1481  0.449909     male\n",
       "8347  10840  0.220112     shew\n",
       "1174   2125  0.167834      sex\n",
       "7593  10086  0.147805   plumag\n",
       "1175   2126  0.144992   sexual\n",
       "8348  10841  0.144869    shewn\n",
       "8629  11122  0.116020  stridul\n",
       "1162   2103  0.110006   select\n",
       "69      123  0.104414    adult"
      ]
     },
     "execution_count": 12,
     "metadata": {},
     "output_type": "execute_result"
    }
   ],
   "source": [
    "df_tfidf = pd.DataFrame(model[bows[dom]])\n",
    "df_tfidf.columns = [\"id\",\"score\"]\n",
    "\n",
    "# Add the tokens corresponding to the numerical indices for better readability\n",
    "df_tfidf['token'] = [dictionary[i] for i in list(df_tfidf[\"id\"])]\n",
    "\n",
    "# The first 10 rows of the DataFrame by descending tf-idf score\n",
    "df_tfidf.sort_values(by=\"score\", ascending=False).head(10)\n"
   ]
  },
  {
   "cell_type": "markdown",
   "id": "298558c1",
   "metadata": {},
   "source": [
    "### Computing similarity"
   ]
  },
  {
   "cell_type": "code",
   "execution_count": 13,
   "id": "4ed18fad",
   "metadata": {},
   "outputs": [
    {
     "data": {
      "text/html": [
       "<div>\n",
       "<style scoped>\n",
       "    .dataframe tbody tr th:only-of-type {\n",
       "        vertical-align: middle;\n",
       "    }\n",
       "\n",
       "    .dataframe tbody tr th {\n",
       "        vertical-align: top;\n",
       "    }\n",
       "\n",
       "    .dataframe thead th {\n",
       "        text-align: right;\n",
       "    }\n",
       "</style>\n",
       "<table border=\"1\" class=\"dataframe\">\n",
       "  <thead>\n",
       "    <tr style=\"text-align: right;\">\n",
       "      <th></th>\n",
       "      <th>Autobiography</th>\n",
       "      <th>CoralReefs</th>\n",
       "      <th>DescentofMan</th>\n",
       "      <th>DifferentFormsofFlowers</th>\n",
       "      <th>EffectsCrossSelfFertilization</th>\n",
       "      <th>ExpressionofEmotionManAnimals</th>\n",
       "      <th>FormationVegetableMould</th>\n",
       "      <th>FoundationsOriginofSpecies</th>\n",
       "      <th>GeologicalObservationsSouthAmerica</th>\n",
       "      <th>InsectivorousPlants</th>\n",
       "      <th>LifeandLettersVol1</th>\n",
       "      <th>LifeandLettersVol2</th>\n",
       "      <th>MonographCirripedia</th>\n",
       "      <th>MonographCirripediaVol2</th>\n",
       "      <th>MovementClimbingPlants</th>\n",
       "      <th>OriginofSpecies</th>\n",
       "      <th>PowerMovementPlants</th>\n",
       "      <th>VariationPlantsAnimalsDomestication</th>\n",
       "      <th>VolcanicIslands</th>\n",
       "      <th>VoyageBeagle</th>\n",
       "    </tr>\n",
       "  </thead>\n",
       "  <tbody>\n",
       "    <tr>\n",
       "      <th>Autobiography</th>\n",
       "      <td>1.000000</td>\n",
       "      <td>0.049237</td>\n",
       "      <td>0.080235</td>\n",
       "      <td>0.066347</td>\n",
       "      <td>0.077055</td>\n",
       "      <td>0.087831</td>\n",
       "      <td>0.040685</td>\n",
       "      <td>0.026525</td>\n",
       "      <td>0.030250</td>\n",
       "      <td>0.014838</td>\n",
       "      <td>0.534997</td>\n",
       "      <td>0.292161</td>\n",
       "      <td>0.005506</td>\n",
       "      <td>0.006673</td>\n",
       "      <td>0.022851</td>\n",
       "      <td>0.098686</td>\n",
       "      <td>0.016115</td>\n",
       "      <td>0.043821</td>\n",
       "      <td>0.038230</td>\n",
       "      <td>0.181494</td>\n",
       "    </tr>\n",
       "    <tr>\n",
       "      <th>CoralReefs</th>\n",
       "      <td>0.049237</td>\n",
       "      <td>1.000000</td>\n",
       "      <td>0.009462</td>\n",
       "      <td>0.001949</td>\n",
       "      <td>0.001924</td>\n",
       "      <td>0.004971</td>\n",
       "      <td>0.029394</td>\n",
       "      <td>0.010097</td>\n",
       "      <td>0.060775</td>\n",
       "      <td>0.002252</td>\n",
       "      <td>0.044122</td>\n",
       "      <td>0.026313</td>\n",
       "      <td>0.005934</td>\n",
       "      <td>0.008951</td>\n",
       "      <td>0.001517</td>\n",
       "      <td>0.038707</td>\n",
       "      <td>0.002670</td>\n",
       "      <td>0.010329</td>\n",
       "      <td>0.057369</td>\n",
       "      <td>0.267450</td>\n",
       "    </tr>\n",
       "    <tr>\n",
       "      <th>DescentofMan</th>\n",
       "      <td>0.080235</td>\n",
       "      <td>0.009462</td>\n",
       "      <td>1.000000</td>\n",
       "      <td>0.072472</td>\n",
       "      <td>0.029918</td>\n",
       "      <td>0.146462</td>\n",
       "      <td>0.027027</td>\n",
       "      <td>0.061512</td>\n",
       "      <td>0.009592</td>\n",
       "      <td>0.009399</td>\n",
       "      <td>0.086791</td>\n",
       "      <td>0.130198</td>\n",
       "      <td>0.051466</td>\n",
       "      <td>0.036483</td>\n",
       "      <td>0.005130</td>\n",
       "      <td>0.263388</td>\n",
       "      <td>0.011199</td>\n",
       "      <td>0.207145</td>\n",
       "      <td>0.007832</td>\n",
       "      <td>0.123499</td>\n",
       "    </tr>\n",
       "    <tr>\n",
       "      <th>DifferentFormsofFlowers</th>\n",
       "      <td>0.066347</td>\n",
       "      <td>0.001949</td>\n",
       "      <td>0.072472</td>\n",
       "      <td>1.000000</td>\n",
       "      <td>0.391408</td>\n",
       "      <td>0.006500</td>\n",
       "      <td>0.010569</td>\n",
       "      <td>0.017557</td>\n",
       "      <td>0.002867</td>\n",
       "      <td>0.007458</td>\n",
       "      <td>0.023960</td>\n",
       "      <td>0.076875</td>\n",
       "      <td>0.008920</td>\n",
       "      <td>0.004451</td>\n",
       "      <td>0.008211</td>\n",
       "      <td>0.126853</td>\n",
       "      <td>0.018835</td>\n",
       "      <td>0.044339</td>\n",
       "      <td>0.002601</td>\n",
       "      <td>0.013100</td>\n",
       "    </tr>\n",
       "    <tr>\n",
       "      <th>EffectsCrossSelfFertilization</th>\n",
       "      <td>0.077055</td>\n",
       "      <td>0.001924</td>\n",
       "      <td>0.029918</td>\n",
       "      <td>0.391408</td>\n",
       "      <td>1.000000</td>\n",
       "      <td>0.006832</td>\n",
       "      <td>0.032246</td>\n",
       "      <td>0.016768</td>\n",
       "      <td>0.002239</td>\n",
       "      <td>0.006753</td>\n",
       "      <td>0.029386</td>\n",
       "      <td>0.076840</td>\n",
       "      <td>0.003002</td>\n",
       "      <td>0.002354</td>\n",
       "      <td>0.015048</td>\n",
       "      <td>0.144082</td>\n",
       "      <td>0.039789</td>\n",
       "      <td>0.048506</td>\n",
       "      <td>0.002171</td>\n",
       "      <td>0.017180</td>\n",
       "    </tr>\n",
       "  </tbody>\n",
       "</table>\n",
       "</div>"
      ],
      "text/plain": [
       "                               Autobiography  CoralReefs  DescentofMan  \\\n",
       "Autobiography                       1.000000    0.049237      0.080235   \n",
       "CoralReefs                          0.049237    1.000000      0.009462   \n",
       "DescentofMan                        0.080235    0.009462      1.000000   \n",
       "DifferentFormsofFlowers             0.066347    0.001949      0.072472   \n",
       "EffectsCrossSelfFertilization       0.077055    0.001924      0.029918   \n",
       "\n",
       "                               DifferentFormsofFlowers  \\\n",
       "Autobiography                                 0.066347   \n",
       "CoralReefs                                    0.001949   \n",
       "DescentofMan                                  0.072472   \n",
       "DifferentFormsofFlowers                       1.000000   \n",
       "EffectsCrossSelfFertilization                 0.391408   \n",
       "\n",
       "                               EffectsCrossSelfFertilization  \\\n",
       "Autobiography                                       0.077055   \n",
       "CoralReefs                                          0.001924   \n",
       "DescentofMan                                        0.029918   \n",
       "DifferentFormsofFlowers                             0.391408   \n",
       "EffectsCrossSelfFertilization                       1.000000   \n",
       "\n",
       "                               ExpressionofEmotionManAnimals  \\\n",
       "Autobiography                                       0.087831   \n",
       "CoralReefs                                          0.004971   \n",
       "DescentofMan                                        0.146462   \n",
       "DifferentFormsofFlowers                             0.006500   \n",
       "EffectsCrossSelfFertilization                       0.006832   \n",
       "\n",
       "                               FormationVegetableMould  \\\n",
       "Autobiography                                 0.040685   \n",
       "CoralReefs                                    0.029394   \n",
       "DescentofMan                                  0.027027   \n",
       "DifferentFormsofFlowers                       0.010569   \n",
       "EffectsCrossSelfFertilization                 0.032246   \n",
       "\n",
       "                               FoundationsOriginofSpecies  \\\n",
       "Autobiography                                    0.026525   \n",
       "CoralReefs                                       0.010097   \n",
       "DescentofMan                                     0.061512   \n",
       "DifferentFormsofFlowers                          0.017557   \n",
       "EffectsCrossSelfFertilization                    0.016768   \n",
       "\n",
       "                               GeologicalObservationsSouthAmerica  \\\n",
       "Autobiography                                            0.030250   \n",
       "CoralReefs                                               0.060775   \n",
       "DescentofMan                                             0.009592   \n",
       "DifferentFormsofFlowers                                  0.002867   \n",
       "EffectsCrossSelfFertilization                            0.002239   \n",
       "\n",
       "                               InsectivorousPlants  LifeandLettersVol1  \\\n",
       "Autobiography                             0.014838            0.534997   \n",
       "CoralReefs                                0.002252            0.044122   \n",
       "DescentofMan                              0.009399            0.086791   \n",
       "DifferentFormsofFlowers                   0.007458            0.023960   \n",
       "EffectsCrossSelfFertilization             0.006753            0.029386   \n",
       "\n",
       "                               LifeandLettersVol2  MonographCirripedia  \\\n",
       "Autobiography                            0.292161             0.005506   \n",
       "CoralReefs                               0.026313             0.005934   \n",
       "DescentofMan                             0.130198             0.051466   \n",
       "DifferentFormsofFlowers                  0.076875             0.008920   \n",
       "EffectsCrossSelfFertilization            0.076840             0.003002   \n",
       "\n",
       "                               MonographCirripediaVol2  \\\n",
       "Autobiography                                 0.006673   \n",
       "CoralReefs                                    0.008951   \n",
       "DescentofMan                                  0.036483   \n",
       "DifferentFormsofFlowers                       0.004451   \n",
       "EffectsCrossSelfFertilization                 0.002354   \n",
       "\n",
       "                               MovementClimbingPlants  OriginofSpecies  \\\n",
       "Autobiography                                0.022851         0.098686   \n",
       "CoralReefs                                   0.001517         0.038707   \n",
       "DescentofMan                                 0.005130         0.263388   \n",
       "DifferentFormsofFlowers                      0.008211         0.126853   \n",
       "EffectsCrossSelfFertilization                0.015048         0.144082   \n",
       "\n",
       "                               PowerMovementPlants  \\\n",
       "Autobiography                             0.016115   \n",
       "CoralReefs                                0.002670   \n",
       "DescentofMan                              0.011199   \n",
       "DifferentFormsofFlowers                   0.018835   \n",
       "EffectsCrossSelfFertilization             0.039789   \n",
       "\n",
       "                               VariationPlantsAnimalsDomestication  \\\n",
       "Autobiography                                             0.043821   \n",
       "CoralReefs                                                0.010329   \n",
       "DescentofMan                                              0.207145   \n",
       "DifferentFormsofFlowers                                   0.044339   \n",
       "EffectsCrossSelfFertilization                             0.048506   \n",
       "\n",
       "                               VolcanicIslands  VoyageBeagle  \n",
       "Autobiography                         0.038230      0.181494  \n",
       "CoralReefs                            0.057369      0.267450  \n",
       "DescentofMan                          0.007832      0.123499  \n",
       "DifferentFormsofFlowers               0.002601      0.013100  \n",
       "EffectsCrossSelfFertilization         0.002171      0.017180  "
      ]
     },
     "execution_count": 13,
     "metadata": {},
     "output_type": "execute_result"
    }
   ],
   "source": [
    "from gensim import similarities\n",
    "\n",
    "# Compute the similarity matrix (pairwise distance between all texts)\n",
    "sims = similarities.MatrixSimilarity(model[bows])\n",
    "    \n",
    "# Transform the resulting list into a dataframe\n",
    "sim_df = pd.DataFrame(list(sims))\n",
    "\n",
    "\n",
    "sim_df.columns = titles\n",
    "sim_df.index = titles\n",
    "\n",
    "# Print the resulting matrix\n",
    "sim_df.head()"
   ]
  },
  {
   "cell_type": "markdown",
   "id": "d487d6e8",
   "metadata": {},
   "source": [
    "### 11. The book most similar to \"Descent of Man\""
   ]
  },
  {
   "cell_type": "code",
   "execution_count": 14,
   "id": "edad872e",
   "metadata": {},
   "outputs": [
    {
     "data": {
      "text/plain": [
       "Text(0.5, 1.0, \"Most similar books to 'On the Origin of Species'\")"
      ]
     },
     "execution_count": 14,
     "metadata": {},
     "output_type": "execute_result"
    },
    {
     "data": {
      "image/png": "[encoded data removed]",
      "text/plain": [
       "<Figure size 432x288 with 1 Axes>"
      ]
     },
     "metadata": {
      "needs_background": "light"
     },
     "output_type": "display_data"
    }
   ],
   "source": [
    "%matplotlib inline\n",
    "import matplotlib.pyplot as plt\n",
    "\n",
    "# The column corresponding to \"Descent of Man\"  \n",
    "v =  sim_df[\"DescentofMan\"]\n",
    "\n",
    "# Sort by ascending scores\n",
    "v_sorted = v.sort_values(ascending=True)\n",
    "\n",
    "\n",
    "v_sorted.plot.barh(x='lab', y='val', rot=0).plot()\n",
    "\n",
    "# Modify the axes labels and plot title for better readability\n",
    "plt.xlabel(\"Cosine distance\")\n",
    "plt.ylabel(\"\")\n",
    "plt.title(\"Most similar books to 'On the Origin of Species'\")"
   ]
  },
  {
   "cell_type": "code",
   "execution_count": 15,
   "id": "da86c200",
   "metadata": {},
   "outputs": [
    {
     "data": {
      "image/png": "[encoded data removed]",
      "text/plain": [
       "<Figure size 432x288 with 1 Axes>"
      ]
     },
     "metadata": {
      "needs_background": "light"
     },
     "output_type": "display_data"
    }
   ],
   "source": [
    "\n",
    "from scipy.cluster import hierarchy\n",
    "\n",
    "# Compute the clusters from the similarity matrix,\n",
    "# using the Ward variance minimization algorithm\n",
    "Z = hierarchy.linkage(sim_df, 'ward')\n",
    "\n",
    "# Display this result as a horizontal dendrogram\n",
    "cluster = hierarchy.dendrogram(Z,  leaf_font_size=8, labels=sim_df.index,  orientation=\"left\")"
   ]
  }
 ],
 "metadata": {
  "kernelspec": {
   "display_name": "Python 3",
   "language": "python",
   "name": "python3"
  },
  "language_info": {
   "codemirror_mode": {
    "name": "ipython",
    "version": 3
   },
   "file_extension": ".py",
   "mimetype": "text/x-python",
   "name": "python",
   "nbconvert_exporter": "python",
   "pygments_lexer": "ipython3",
   "version": "3.8.8"
  }
 },
 "nbformat": 4,
 "nbformat_minor": 5
}
